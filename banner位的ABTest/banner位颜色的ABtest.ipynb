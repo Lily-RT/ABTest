{
 "cells": [
  {
   "cell_type": "code",
   "execution_count": 1,
   "id": "62b04f6e",
   "metadata": {},
   "outputs": [],
   "source": [
    "import pandas as pd\n",
    "import numpy as np\n",
    "import matplotlib.pyplot as plt\n",
    "from scipy import stats\n",
    "import pymysql\n",
    "import warnings\n",
    "warnings.filterwarnings('ignore')\n",
    "plt.rcParams['font.family'] = 'SimHei'\n",
    "plt.rcParams['axes.unicode_minus'] = False"
   ]
  },
  {
   "cell_type": "code",
   "execution_count": 2,
   "id": "9682c8db",
   "metadata": {},
   "outputs": [
    {
     "data": {
      "text/html": [
       "<div>\n",
       "<style scoped>\n",
       "    .dataframe tbody tr th:only-of-type {\n",
       "        vertical-align: middle;\n",
       "    }\n",
       "\n",
       "    .dataframe tbody tr th {\n",
       "        vertical-align: top;\n",
       "    }\n",
       "\n",
       "    .dataframe thead th {\n",
       "        text-align: right;\n",
       "    }\n",
       "</style>\n",
       "<table border=\"1\" class=\"dataframe\">\n",
       "  <thead>\n",
       "    <tr style=\"text-align: right;\">\n",
       "      <th></th>\n",
       "      <th>user_id</th>\n",
       "      <th>timestamp</th>\n",
       "      <th>group</th>\n",
       "      <th>landing_page</th>\n",
       "      <th>converted</th>\n",
       "    </tr>\n",
       "  </thead>\n",
       "  <tbody>\n",
       "    <tr>\n",
       "      <th>0</th>\n",
       "      <td>851104</td>\n",
       "      <td>2017-01-21 22:11:48.556739</td>\n",
       "      <td>control</td>\n",
       "      <td>old_page</td>\n",
       "      <td>0</td>\n",
       "    </tr>\n",
       "    <tr>\n",
       "      <th>1</th>\n",
       "      <td>804228</td>\n",
       "      <td>2017-01-12 08:01:45.159739</td>\n",
       "      <td>control</td>\n",
       "      <td>old_page</td>\n",
       "      <td>0</td>\n",
       "    </tr>\n",
       "    <tr>\n",
       "      <th>2</th>\n",
       "      <td>661590</td>\n",
       "      <td>2017-01-11 16:55:06.154213</td>\n",
       "      <td>treatment</td>\n",
       "      <td>new_page</td>\n",
       "      <td>0</td>\n",
       "    </tr>\n",
       "    <tr>\n",
       "      <th>3</th>\n",
       "      <td>853541</td>\n",
       "      <td>2017-01-08 18:28:03.143765</td>\n",
       "      <td>treatment</td>\n",
       "      <td>new_page</td>\n",
       "      <td>0</td>\n",
       "    </tr>\n",
       "    <tr>\n",
       "      <th>4</th>\n",
       "      <td>864975</td>\n",
       "      <td>2017-01-21 01:52:26.210827</td>\n",
       "      <td>control</td>\n",
       "      <td>old_page</td>\n",
       "      <td>1</td>\n",
       "    </tr>\n",
       "  </tbody>\n",
       "</table>\n",
       "</div>"
      ],
      "text/plain": [
       "  user_id                   timestamp      group landing_page converted\n",
       "0  851104  2017-01-21 22:11:48.556739    control     old_page         0\n",
       "1  804228  2017-01-12 08:01:45.159739    control     old_page         0\n",
       "2  661590  2017-01-11 16:55:06.154213  treatment     new_page         0\n",
       "3  853541  2017-01-08 18:28:03.143765  treatment     new_page         0\n",
       "4  864975  2017-01-21 01:52:26.210827    control     old_page         1"
      ]
     },
     "execution_count": 2,
     "metadata": {},
     "output_type": "execute_result"
    }
   ],
   "source": [
    "con = pymysql.connect(host='127.0.0.1', port=3306, user='root', passwd='lxy021527', db='ABTest', use_unicode=True, charset='utf8')\n",
    "data = pd.read_sql('select * from ab_data', con=con)\n",
    "data.head()"
   ]
  },
  {
   "cell_type": "code",
   "execution_count": 3,
   "id": "f281d221",
   "metadata": {},
   "outputs": [
    {
     "data": {
      "text/html": [
       "<div>\n",
       "<style scoped>\n",
       "    .dataframe tbody tr th:only-of-type {\n",
       "        vertical-align: middle;\n",
       "    }\n",
       "\n",
       "    .dataframe tbody tr th {\n",
       "        vertical-align: top;\n",
       "    }\n",
       "\n",
       "    .dataframe thead th {\n",
       "        text-align: right;\n",
       "    }\n",
       "</style>\n",
       "<table border=\"1\" class=\"dataframe\">\n",
       "  <thead>\n",
       "    <tr style=\"text-align: right;\">\n",
       "      <th></th>\n",
       "      <th>user_id</th>\n",
       "      <th>timestamp</th>\n",
       "      <th>group</th>\n",
       "      <th>landing_page</th>\n",
       "      <th>converted</th>\n",
       "      <th>date</th>\n",
       "    </tr>\n",
       "  </thead>\n",
       "  <tbody>\n",
       "    <tr>\n",
       "      <th>0</th>\n",
       "      <td>851104</td>\n",
       "      <td>2017-01-21 22:11:48.556739</td>\n",
       "      <td>control</td>\n",
       "      <td>old_page</td>\n",
       "      <td>0</td>\n",
       "      <td>2017-01-21</td>\n",
       "    </tr>\n",
       "    <tr>\n",
       "      <th>1</th>\n",
       "      <td>804228</td>\n",
       "      <td>2017-01-12 08:01:45.159739</td>\n",
       "      <td>control</td>\n",
       "      <td>old_page</td>\n",
       "      <td>0</td>\n",
       "      <td>2017-01-12</td>\n",
       "    </tr>\n",
       "    <tr>\n",
       "      <th>2</th>\n",
       "      <td>661590</td>\n",
       "      <td>2017-01-11 16:55:06.154213</td>\n",
       "      <td>treatment</td>\n",
       "      <td>new_page</td>\n",
       "      <td>0</td>\n",
       "      <td>2017-01-11</td>\n",
       "    </tr>\n",
       "    <tr>\n",
       "      <th>3</th>\n",
       "      <td>853541</td>\n",
       "      <td>2017-01-08 18:28:03.143765</td>\n",
       "      <td>treatment</td>\n",
       "      <td>new_page</td>\n",
       "      <td>0</td>\n",
       "      <td>2017-01-08</td>\n",
       "    </tr>\n",
       "    <tr>\n",
       "      <th>4</th>\n",
       "      <td>864975</td>\n",
       "      <td>2017-01-21 01:52:26.210827</td>\n",
       "      <td>control</td>\n",
       "      <td>old_page</td>\n",
       "      <td>1</td>\n",
       "      <td>2017-01-21</td>\n",
       "    </tr>\n",
       "  </tbody>\n",
       "</table>\n",
       "</div>"
      ],
      "text/plain": [
       "  user_id                   timestamp      group landing_page converted  \\\n",
       "0  851104  2017-01-21 22:11:48.556739    control     old_page         0   \n",
       "1  804228  2017-01-12 08:01:45.159739    control     old_page         0   \n",
       "2  661590  2017-01-11 16:55:06.154213  treatment     new_page         0   \n",
       "3  853541  2017-01-08 18:28:03.143765  treatment     new_page         0   \n",
       "4  864975  2017-01-21 01:52:26.210827    control     old_page         1   \n",
       "\n",
       "         date  \n",
       "0  2017-01-21  \n",
       "1  2017-01-12  \n",
       "2  2017-01-11  \n",
       "3  2017-01-08  \n",
       "4  2017-01-21  "
      ]
     },
     "execution_count": 3,
     "metadata": {},
     "output_type": "execute_result"
    }
   ],
   "source": [
    "# 新增一列，将日期修改为'%Y-%m-%d'格式\n",
    "import datetime\n",
    "data['date'] = pd.to_datetime(data['timestamp']).dt.strftime('%Y-%m-%d')\n",
    "data.head()"
   ]
  },
  {
   "cell_type": "markdown",
   "id": "d46a7836",
   "metadata": {},
   "source": [
    "# 检验指标确定"
   ]
  },
  {
   "cell_type": "markdown",
   "id": "2a8cfa8c",
   "metadata": {},
   "source": [
    "**一类指标 人均停留时长，保证一类指标不下降或在正常波动范围内**\n",
    "\n",
    "**二类指标 banner位点击率**"
   ]
  },
  {
   "cell_type": "markdown",
   "id": "d342f777",
   "metadata": {},
   "source": [
    "# 确定检验统计量"
   ]
  },
  {
   "cell_type": "markdown",
   "id": "90c3dbed",
   "metadata": {},
   "source": [
    "**一类指标统计量 人均停留时长之差**\n",
    "\n",
    "**二类指标统计量 广告点击率 = 点击人数/曝光人数， 点击率之差**"
   ]
  },
  {
   "cell_type": "markdown",
   "id": "d2134153",
   "metadata": {},
   "source": [
    "# 埋点收集数据"
   ]
  },
  {
   "cell_type": "markdown",
   "id": "3c7db7b0",
   "metadata": {},
   "source": [
    "**在广告位置 曝光和点击收集**\n",
    "\n",
    "|埋点事件|Banner曝光|Banner点击|用户页面停留时长|\n",
    "--|--|--|--|\n",
    "常规埋点属性|事件ID|Confirm_id|\n",
    "--|事件位置|Page_id|\n",
    "--|--|Block_id|\n",
    "--|--|Seat_id|\n",
    "--|来源页面|From|\n",
    "--|URL|URL|\n",
    "--|用户属性|User_id|\n",
    "--|--|用户设备\n",
    "--|--|用户位置\n",
    "特殊属性|曝光|点击|停留时长\n",
    "--|--|--|开始时间\n",
    "--|--|--|结束时间"
   ]
  },
  {
   "cell_type": "markdown",
   "id": "2de93703",
   "metadata": {},
   "source": [
    "# 确定$H_0,H_1$"
   ]
  },
  {
   "cell_type": "markdown",
   "id": "0768b5f4",
   "metadata": {},
   "source": [
    "**一类指标**\n",
    "\n",
    "**$H_0$ : control_stime - treatment_stime >= 2*std(control_stime)**\n",
    "\n",
    "**$H_1$ : control_stime - treatment_stime < 2*std(control_stime)**\n",
    "\n",
    "**二类指标**\n",
    "\n",
    "**$H_0$ : treatment_p - control_p <= 0**\n",
    "\n",
    "**$H_1$ : treatment_p - control_p > 0**"
   ]
  },
  {
   "cell_type": "markdown",
   "id": "11d2cb52",
   "metadata": {},
   "source": [
    "# 确定显著性水平α"
   ]
  },
  {
   "cell_type": "markdown",
   "id": "12702647",
   "metadata": {},
   "source": [
    "**一类错误使用默认值α=0.05**\n",
    "\n",
    "**二类错误使用默认值β=0.2**"
   ]
  },
  {
   "cell_type": "markdown",
   "id": "66e24a57",
   "metadata": {},
   "source": [
    "# 样本量计算"
   ]
  },
  {
   "cell_type": "markdown",
   "id": "5e19523d",
   "metadata": {},
   "source": [
    "一类指标无数据，不计算\n",
    "\n",
    "二类指标为单侧（右侧）检验，样本量计算公式为：\n",
    "\n",
    "**$n = p_0(1-p_0)*np.power((z_{1-α} + z_{1-β}*np.sqrt(p(1-p)/p_0(1-p_0)))/(p-p_0),2)$**\n",
    "\n",
    "**其中，treatmnet_p 为p，control_p为$p_0$**"
   ]
  },
  {
   "cell_type": "code",
   "execution_count": 4,
   "id": "9f2afb86",
   "metadata": {},
   "outputs": [],
   "source": [
    "# 根据常规默认值确定 α，β，k值 α=0.05，β=0.2\n",
    "alpha = 0.05\n",
    "beta = 0.2"
   ]
  },
  {
   "cell_type": "markdown",
   "id": "3876281f",
   "metadata": {},
   "source": [
    "求$z_{1-α}$和$z_{1-β}$"
   ]
  },
  {
   "cell_type": "code",
   "execution_count": 24,
   "id": "2b2ffa06",
   "metadata": {},
   "outputs": [
    {
     "name": "stdout",
     "output_type": "stream",
     "text": [
      "1.6448536269514729 0.8416212335729142\n"
     ]
    }
   ],
   "source": [
    "z_alpha = stats.norm.isf(alpha, loc=0, scale=1)\n",
    "z_beta = stats.norm.isf(beta, loc=0, scale=1)\n",
    "print(z_alpha, z_beta)"
   ]
  },
  {
   "cell_type": "markdown",
   "id": "61b3ffb1",
   "metadata": {},
   "source": [
    "求$p_0$"
   ]
  },
  {
   "cell_type": "code",
   "execution_count": 20,
   "id": "a5afb6fd",
   "metadata": {},
   "outputs": [
    {
     "name": "stdout",
     "output_type": "stream",
     "text": [
      "user_id         object\n",
      "timestamp       object\n",
      "group           object\n",
      "landing_page    object\n",
      "converted        int32\n",
      "date            object\n",
      "dtype: object\n"
     ]
    }
   ],
   "source": [
    "# 查看数据类型,converted一列为object型，将其转换为int型\n",
    "data.converted = data.converted.astype('int')\n",
    "print(data.dtypes)"
   ]
  },
  {
   "cell_type": "code",
   "execution_count": 22,
   "id": "8c06ac50",
   "metadata": {},
   "outputs": [
    {
     "data": {
      "text/plain": [
       "0.1203863045004612"
      ]
     },
     "execution_count": 22,
     "metadata": {},
     "output_type": "execute_result"
    }
   ],
   "source": [
    "# 计算对照组的广告点击率（由于converted值为0，1），所以所求比例与均值结果一致\n",
    "control_p = data.converted[(data.group=='control')&(data.landing_page=='old_page')].mean()\n",
    "control_p"
   ]
  },
  {
   "cell_type": "code",
   "execution_count": 23,
   "id": "f89a4475",
   "metadata": {},
   "outputs": [
    {
     "data": {
      "text/plain": [
       "0.10589344218918344"
      ]
     },
     "execution_count": 23,
     "metadata": {},
     "output_type": "execute_result"
    }
   ],
   "source": [
    "# 计算p0*(1-p0)\n",
    "control_p_1 = control_p * (1 - control_p)\n",
    "control_p_1"
   ]
  },
  {
   "cell_type": "code",
   "execution_count": 25,
   "id": "b2acc10b",
   "metadata": {},
   "outputs": [
    {
     "data": {
      "text/plain": [
       "0.1303863045004612"
      ]
     },
     "execution_count": 25,
     "metadata": {},
     "output_type": "execute_result"
    }
   ],
   "source": [
    "# H1为treatment_p - control_p > 0,为计算样本量，这里需要指定一个非0的值，此值的绝对值越小样本量越大\n",
    "# treatment_p - control_p > 0.01\n",
    "treatment_p = control_p + 0.01\n",
    "treatment_p"
   ]
  },
  {
   "cell_type": "code",
   "execution_count": 26,
   "id": "9e338099",
   "metadata": {},
   "outputs": [
    {
     "data": {
      "text/plain": [
       "0.11338571609917422"
      ]
     },
     "execution_count": 26,
     "metadata": {},
     "output_type": "execute_result"
    }
   ],
   "source": [
    "# 计算p * (1-p)\n",
    "treatment_p_1 = treatment_p * (1- treatment_p)\n",
    "treatment_p_1"
   ]
  },
  {
   "cell_type": "markdown",
   "id": "347c4ef7",
   "metadata": {},
   "source": [
    "**计算样本量n**"
   ]
  },
  {
   "cell_type": "code",
   "execution_count": 28,
   "id": "c52758c4",
   "metadata": {},
   "outputs": [
    {
     "data": {
      "text/plain": [
       "6701.938803160921"
      ]
     },
     "execution_count": 28,
     "metadata": {},
     "output_type": "execute_result"
    }
   ],
   "source": [
    "n = control_p_1 * np.power((z_alpha + z_beta * np.sqrt(treatment_p_1/control_p_1))/(treatment_p-control_p),2)\n",
    "n"
   ]
  },
  {
   "cell_type": "code",
   "execution_count": 31,
   "id": "1ebd2373",
   "metadata": {},
   "outputs": [
    {
     "data": {
      "text/plain": [
       "group      landing_page\n",
       "control    new_page          1928\n",
       "           old_page        145274\n",
       "treatment  new_page        145311\n",
       "           old_page          1965\n",
       "Name: user_id, dtype: int64"
      ]
     },
     "execution_count": 31,
     "metadata": {},
     "output_type": "execute_result"
    }
   ],
   "source": [
    "# 查看我们的样本量是否满足最小样本量\n",
    "data.groupby(['group','landing_page'])['user_id'].count()"
   ]
  },
  {
   "cell_type": "markdown",
   "id": "fd7fa4e0",
   "metadata": {},
   "source": [
    "# 假设检验"
   ]
  },
  {
   "cell_type": "markdown",
   "id": "dc808567",
   "metadata": {},
   "source": [
    "1. 计算统计量\n",
    "2. 计算统计量的显著性P值\n",
    "3. 用统计量的显著性P值与显著性α比较做决策"
   ]
  },
  {
   "cell_type": "code",
   "execution_count": 35,
   "id": "a77765ff",
   "metadata": {},
   "outputs": [
    {
     "data": {
      "text/html": [
       "<div>\n",
       "<style scoped>\n",
       "    .dataframe tbody tr th:only-of-type {\n",
       "        vertical-align: middle;\n",
       "    }\n",
       "\n",
       "    .dataframe tbody tr th {\n",
       "        vertical-align: top;\n",
       "    }\n",
       "\n",
       "    .dataframe thead th {\n",
       "        text-align: right;\n",
       "    }\n",
       "</style>\n",
       "<table border=\"1\" class=\"dataframe\">\n",
       "  <thead>\n",
       "    <tr style=\"text-align: right;\">\n",
       "      <th></th>\n",
       "      <th>group</th>\n",
       "      <th>landing_page</th>\n",
       "      <th>converted</th>\n",
       "    </tr>\n",
       "  </thead>\n",
       "  <tbody>\n",
       "    <tr>\n",
       "      <th>0</th>\n",
       "      <td>control</td>\n",
       "      <td>new_page</td>\n",
       "      <td>0.114583</td>\n",
       "    </tr>\n",
       "    <tr>\n",
       "      <th>1</th>\n",
       "      <td>control</td>\n",
       "      <td>old_page</td>\n",
       "      <td>0.124807</td>\n",
       "    </tr>\n",
       "    <tr>\n",
       "      <th>2</th>\n",
       "      <td>treatment</td>\n",
       "      <td>new_page</td>\n",
       "      <td>0.124792</td>\n",
       "    </tr>\n",
       "    <tr>\n",
       "      <th>3</th>\n",
       "      <td>treatment</td>\n",
       "      <td>old_page</td>\n",
       "      <td>0.105769</td>\n",
       "    </tr>\n",
       "  </tbody>\n",
       "</table>\n",
       "</div>"
      ],
      "text/plain": [
       "       group landing_page  converted\n",
       "0    control     new_page   0.114583\n",
       "1    control     old_page   0.124807\n",
       "2  treatment     new_page   0.124792\n",
       "3  treatment     old_page   0.105769"
      ]
     },
     "execution_count": 35,
     "metadata": {},
     "output_type": "execute_result"
    }
   ],
   "source": [
    "df = data[data.date=='2017-01-18'].groupby(['group','landing_page'], as_index=False)['converted'].mean()\n",
    "df"
   ]
  },
  {
   "cell_type": "code",
   "execution_count": 49,
   "id": "6dd9fecb",
   "metadata": {},
   "outputs": [],
   "source": [
    "# 只需要旧页面控制组的比例与新页面实验组的比例\n",
    "statistic_t = df.converted[2] - df.converted[1]"
   ]
  },
  {
   "cell_type": "markdown",
   "id": "10b3b27c",
   "metadata": {},
   "source": [
    "求$σ= np.sqrt(p_0*(1-p_0)/n_0 + p*(1-p)/n)$"
   ]
  },
  {
   "cell_type": "code",
   "execution_count": 50,
   "id": "6574fce6",
   "metadata": {},
   "outputs": [
    {
     "data": {
      "text/plain": [
       "6482"
      ]
     },
     "metadata": {},
     "output_type": "display_data"
    },
    {
     "data": {
      "text/plain": [
       "6603"
      ]
     },
     "metadata": {},
     "output_type": "display_data"
    }
   ],
   "source": [
    "# 求控制组和实验组的size\n",
    "n1 = data.loc[(data.date=='2017-01-18') & (data.group=='control')&(data.landing_page=='old_page')]['converted'].count()\n",
    "n2 = data.loc[(data.date=='2017-01-18') & (data.group=='treatment')&(data.landing_page=='new_page')]['converted'].count()\n",
    "display(n1, n2)"
   ]
  },
  {
   "cell_type": "code",
   "execution_count": 51,
   "id": "949c72d4",
   "metadata": {},
   "outputs": [
    {
     "data": {
      "text/plain": [
       "0.005778590893820374"
      ]
     },
     "execution_count": 51,
     "metadata": {},
     "output_type": "execute_result"
    }
   ],
   "source": [
    "# 求σ\n",
    "sigema = np.sqrt(df.converted[1]*(1-df.converted[1])/n1 + df.converted[2]*(1-df.converted[2])/n2)\n",
    "sigema"
   ]
  },
  {
   "cell_type": "markdown",
   "id": "1b9b4394",
   "metadata": {},
   "source": [
    "H0决定拒绝域，<=则说明拒绝域在右侧，所以，使用stats.norm.cdf求出左侧累积概率\n",
    "\n",
    "H0: treatment_p - control_p <= 0"
   ]
  },
  {
   "cell_type": "code",
   "execution_count": 52,
   "id": "9f9425f4",
   "metadata": {},
   "outputs": [
    {
     "data": {
      "text/plain": [
       "0.5010629741266761"
      ]
     },
     "execution_count": 52,
     "metadata": {},
     "output_type": "execute_result"
    }
   ],
   "source": [
    "statistic_p = 1 - stats.norm.cdf(statistic_t, 0, sigema)\n",
    "statistic_p"
   ]
  },
  {
   "cell_type": "code",
   "execution_count": 53,
   "id": "48cc3cae",
   "metadata": {},
   "outputs": [
    {
     "name": "stdout",
     "output_type": "stream",
     "text": [
      "显著性P > α 实验组点击率 <= 对照组点击率\n"
     ]
    }
   ],
   "source": [
    "if (statistic_p > alpha):\n",
    "    print('显著性P > α 实验组点击率 <= 对照组点击率')\n",
    "else:\n",
    "    print('显著性P < α 实验组点击率 > 对照组点击率')"
   ]
  },
  {
   "cell_type": "code",
   "execution_count": 79,
   "id": "cc1d4109",
   "metadata": {},
   "outputs": [],
   "source": [
    "# 封装如下：\n",
    "def ABTest_P(df: pd.DataFrame, group_col: str=None, value_col: str=None, alpha: float=0.05):\n",
    "    '''\n",
    "    :param df: 被分析的DataFrame对象\n",
    "    :param alpha: 显著性 \n",
    "    :param group_col: 组列的名字，默认为df的第一列\n",
    "    :param value_col:值列的名字，默认为df的第二列\n",
    "    :return: tongjiliang p_value p_type\n",
    "    '''\n",
    "    # 列名\n",
    "    if not group_col:\n",
    "        group_col = df.columns[0]\n",
    "    if not value_col:\n",
    "        value_col = df.columns[1]\n",
    "        \n",
    "    temp = df.groupby(group_col, as_index=False)[value_col].mean()\n",
    "    temp_n = df.groupby(group_col, as_index=False)[value_col].count()\n",
    "    \n",
    "    tongjiliang = temp.iloc[0,1] - temp.iloc[1,1]\n",
    "    diff_error = np.sqrt(temp.iloc[0,1]*(1-temp.iloc[0,1])/temp_n.iloc[0,1] + temp.iloc[1,1]*(1-temp.iloc[1,1])/temp_n.iloc[1,1])\n",
    "    \n",
    "    tongjiliang_left_p = stats.norm.cdf(tongjiliang, 0, diff_error)\n",
    "    tongjiliang_right_p = 1 - stats.norm.cdf(tongjiliang, 0, diff_error)\n",
    "    tongjiliang_site_p = tongjiliang_left_p * 2\n",
    "    if tongjiliang_site_p > 1:\n",
    "        tongjiliang_site_p = tongjiliang_right_p * 2\n",
    "    \n",
    "    # 在封装的时候，左右侧双侧检验都用上，提高通用性\n",
    "    temp_1 = [[temp.iloc[0,0], temp.iloc[1,0], tongjiliang, '左侧', tongjiliang_left_p, np.where(tongjiliang_left_p < alpha, '显著', '不显著')],\n",
    "             [temp.iloc[0,0], temp.iloc[1,0], tongjiliang, '右侧', tongjiliang_right_p, np.where(tongjiliang_right_p < alpha, '显著', '不显著')],\n",
    "             [temp.iloc[0,0], temp.iloc[1,0], tongjiliang, '双侧', tongjiliang_site_p, np.where(tongjiliang_site_p < alpha, '显著', '不显著')]]\n",
    "    \n",
    "    temp = pd.DataFrame(temp_1, columns=['p', 'p0', '统计量', '检测', '显著性p值', '结果'])\n",
    "    \n",
    "    return temp"
   ]
  },
  {
   "cell_type": "code",
   "execution_count": 80,
   "id": "5f56d493",
   "metadata": {},
   "outputs": [
    {
     "data": {
      "text/html": [
       "<div>\n",
       "<style scoped>\n",
       "    .dataframe tbody tr th:only-of-type {\n",
       "        vertical-align: middle;\n",
       "    }\n",
       "\n",
       "    .dataframe tbody tr th {\n",
       "        vertical-align: top;\n",
       "    }\n",
       "\n",
       "    .dataframe thead th {\n",
       "        text-align: right;\n",
       "    }\n",
       "</style>\n",
       "<table border=\"1\" class=\"dataframe\">\n",
       "  <thead>\n",
       "    <tr style=\"text-align: right;\">\n",
       "      <th></th>\n",
       "      <th>group</th>\n",
       "      <th>converted</th>\n",
       "    </tr>\n",
       "  </thead>\n",
       "  <tbody>\n",
       "    <tr>\n",
       "      <th>10</th>\n",
       "      <td>treatment</td>\n",
       "      <td>0</td>\n",
       "    </tr>\n",
       "    <tr>\n",
       "      <th>45</th>\n",
       "      <td>control</td>\n",
       "      <td>0</td>\n",
       "    </tr>\n",
       "    <tr>\n",
       "      <th>51</th>\n",
       "      <td>control</td>\n",
       "      <td>1</td>\n",
       "    </tr>\n",
       "    <tr>\n",
       "      <th>83</th>\n",
       "      <td>control</td>\n",
       "      <td>0</td>\n",
       "    </tr>\n",
       "    <tr>\n",
       "      <th>89</th>\n",
       "      <td>control</td>\n",
       "      <td>1</td>\n",
       "    </tr>\n",
       "  </tbody>\n",
       "</table>\n",
       "</div>"
      ],
      "text/plain": [
       "        group  converted\n",
       "10  treatment          0\n",
       "45    control          0\n",
       "51    control          1\n",
       "83    control          0\n",
       "89    control          1"
      ]
     },
     "execution_count": 80,
     "metadata": {},
     "output_type": "execute_result"
    }
   ],
   "source": [
    "temp = data[data.date=='2017-01-18'].loc[((data.group=='control')&(data.landing_page=='old_page'))|((data.group=='treatment')&(data.landing_page=='new_page')),['group','converted']]\n",
    "temp.head()"
   ]
  },
  {
   "cell_type": "code",
   "execution_count": 81,
   "id": "b16a4933",
   "metadata": {},
   "outputs": [
    {
     "data": {
      "text/html": [
       "<div>\n",
       "<style scoped>\n",
       "    .dataframe tbody tr th:only-of-type {\n",
       "        vertical-align: middle;\n",
       "    }\n",
       "\n",
       "    .dataframe tbody tr th {\n",
       "        vertical-align: top;\n",
       "    }\n",
       "\n",
       "    .dataframe thead th {\n",
       "        text-align: right;\n",
       "    }\n",
       "</style>\n",
       "<table border=\"1\" class=\"dataframe\">\n",
       "  <thead>\n",
       "    <tr style=\"text-align: right;\">\n",
       "      <th></th>\n",
       "      <th>p</th>\n",
       "      <th>p0</th>\n",
       "      <th>统计量</th>\n",
       "      <th>检测</th>\n",
       "      <th>显著性p值</th>\n",
       "      <th>结果</th>\n",
       "    </tr>\n",
       "  </thead>\n",
       "  <tbody>\n",
       "    <tr>\n",
       "      <th>0</th>\n",
       "      <td>control</td>\n",
       "      <td>treatment</td>\n",
       "      <td>0.000015</td>\n",
       "      <td>左侧</td>\n",
       "      <td>0.501063</td>\n",
       "      <td>不显著</td>\n",
       "    </tr>\n",
       "    <tr>\n",
       "      <th>1</th>\n",
       "      <td>control</td>\n",
       "      <td>treatment</td>\n",
       "      <td>0.000015</td>\n",
       "      <td>右侧</td>\n",
       "      <td>0.498937</td>\n",
       "      <td>不显著</td>\n",
       "    </tr>\n",
       "    <tr>\n",
       "      <th>2</th>\n",
       "      <td>control</td>\n",
       "      <td>treatment</td>\n",
       "      <td>0.000015</td>\n",
       "      <td>双侧</td>\n",
       "      <td>0.997874</td>\n",
       "      <td>不显著</td>\n",
       "    </tr>\n",
       "  </tbody>\n",
       "</table>\n",
       "</div>"
      ],
      "text/plain": [
       "         p         p0       统计量  检测     显著性p值   结果\n",
       "0  control  treatment  0.000015  左侧  0.501063  不显著\n",
       "1  control  treatment  0.000015  右侧  0.498937  不显著\n",
       "2  control  treatment  0.000015  双侧  0.997874  不显著"
      ]
     },
     "execution_count": 81,
     "metadata": {},
     "output_type": "execute_result"
    }
   ],
   "source": [
    "ABTest_P(temp)"
   ]
  },
  {
   "cell_type": "code",
   "execution_count": null,
   "id": "bf845bb9",
   "metadata": {},
   "outputs": [],
   "source": []
  }
 ],
 "metadata": {
  "kernelspec": {
   "display_name": "Python 3",
   "language": "python",
   "name": "python3"
  },
  "language_info": {
   "codemirror_mode": {
    "name": "ipython",
    "version": 3
   },
   "file_extension": ".py",
   "mimetype": "text/x-python",
   "name": "python",
   "nbconvert_exporter": "python",
   "pygments_lexer": "ipython3",
   "version": "3.9.2"
  },
  "toc": {
   "base_numbering": 1,
   "nav_menu": {},
   "number_sections": true,
   "sideBar": true,
   "skip_h1_title": false,
   "title_cell": "Table of Contents",
   "title_sidebar": "Contents",
   "toc_cell": false,
   "toc_position": {},
   "toc_section_display": true,
   "toc_window_display": false
  }
 },
 "nbformat": 4,
 "nbformat_minor": 5
}
