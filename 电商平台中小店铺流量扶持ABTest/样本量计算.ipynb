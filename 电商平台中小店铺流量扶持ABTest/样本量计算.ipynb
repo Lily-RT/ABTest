{
 "cells": [
  {
   "cell_type": "code",
   "execution_count": 4,
   "id": "7413de1f",
   "metadata": {},
   "outputs": [],
   "source": [
    "# 引用包\n",
    "import pandas as pd \n",
    "import numpy as np\n",
    "import matplotlib.pyplot as plt\n",
    "from scipy import stats\n",
    "import pymysql\n",
    "import warnings\n",
    "warnings.filterwarnings('ignore')\n",
    "plt.rcParams['font.family'] = 'SimHei'\n",
    "plt.rcParams['axes.unicode_minus'] = False"
   ]
  },
  {
   "cell_type": "code",
   "execution_count": 5,
   "id": "c954a1ec",
   "metadata": {},
   "outputs": [
    {
     "data": {
      "text/html": [
       "<div>\n",
       "<style scoped>\n",
       "    .dataframe tbody tr th:only-of-type {\n",
       "        vertical-align: middle;\n",
       "    }\n",
       "\n",
       "    .dataframe tbody tr th {\n",
       "        vertical-align: top;\n",
       "    }\n",
       "\n",
       "    .dataframe thead th {\n",
       "        text-align: right;\n",
       "    }\n",
       "</style>\n",
       "<table border=\"1\" class=\"dataframe\">\n",
       "  <thead>\n",
       "    <tr style=\"text-align: right;\">\n",
       "      <th></th>\n",
       "      <th>id</th>\n",
       "      <th>组</th>\n",
       "      <th>曝光量</th>\n",
       "      <th>点击量</th>\n",
       "      <th>下单量</th>\n",
       "      <th>购买店铺数</th>\n",
       "      <th>店铺类型</th>\n",
       "      <th>riqi</th>\n",
       "    </tr>\n",
       "  </thead>\n",
       "  <tbody>\n",
       "    <tr>\n",
       "      <th>0</th>\n",
       "      <td>17437864</td>\n",
       "      <td>A</td>\n",
       "      <td>105</td>\n",
       "      <td>16</td>\n",
       "      <td>15</td>\n",
       "      <td>20</td>\n",
       "      <td>A</td>\n",
       "      <td>2020-05-13</td>\n",
       "    </tr>\n",
       "    <tr>\n",
       "      <th>1</th>\n",
       "      <td>17402857</td>\n",
       "      <td>A</td>\n",
       "      <td>147</td>\n",
       "      <td>21</td>\n",
       "      <td>13</td>\n",
       "      <td>7</td>\n",
       "      <td>A</td>\n",
       "      <td>2020-05-13</td>\n",
       "    </tr>\n",
       "    <tr>\n",
       "      <th>2</th>\n",
       "      <td>17017891</td>\n",
       "      <td>A</td>\n",
       "      <td>59</td>\n",
       "      <td>10</td>\n",
       "      <td>9</td>\n",
       "      <td>4</td>\n",
       "      <td>A</td>\n",
       "      <td>2020-05-13</td>\n",
       "    </tr>\n",
       "    <tr>\n",
       "      <th>3</th>\n",
       "      <td>15792190</td>\n",
       "      <td>A</td>\n",
       "      <td>216</td>\n",
       "      <td>39</td>\n",
       "      <td>6</td>\n",
       "      <td>2</td>\n",
       "      <td>C</td>\n",
       "      <td>2020-05-13</td>\n",
       "    </tr>\n",
       "    <tr>\n",
       "      <th>4</th>\n",
       "      <td>8726788</td>\n",
       "      <td>A</td>\n",
       "      <td>51</td>\n",
       "      <td>9</td>\n",
       "      <td>6</td>\n",
       "      <td>1</td>\n",
       "      <td>A</td>\n",
       "      <td>2020-05-13</td>\n",
       "    </tr>\n",
       "  </tbody>\n",
       "</table>\n",
       "</div>"
      ],
      "text/plain": [
       "         id  组  曝光量  点击量  下单量  购买店铺数 店铺类型        riqi\n",
       "0  17437864  A  105   16   15     20    A  2020-05-13\n",
       "1  17402857  A  147   21   13      7    A  2020-05-13\n",
       "2  17017891  A   59   10    9      4    A  2020-05-13\n",
       "3  15792190  A  216   39    6      2    C  2020-05-13\n",
       "4   8726788  A   51    9    6      1    A  2020-05-13"
      ]
     },
     "execution_count": 5,
     "metadata": {},
     "output_type": "execute_result"
    }
   ],
   "source": [
    "# 读取sql数据\n",
    "con = pymysql.connect(host='127.0.0.1', port=3306, user='root', passwd='lxy021527', db='ABTest', use_unicode=True, charset='utf8')\n",
    "data = pd.read_sql('select * from abtest', con=con)\n",
    "data.head()"
   ]
  },
  {
   "cell_type": "markdown",
   "id": "19162ffc",
   "metadata": {},
   "source": [
    "$n_A$ = $kn_B$ and $n_B$ = (1+1/k)(σ$(z_{1-α/2}$+$z_{1-β})$/$(μ_A-μ_B))^2$"
   ]
  },
  {
   "cell_type": "code",
   "execution_count": 6,
   "id": "ecf831e1",
   "metadata": {},
   "outputs": [],
   "source": [
    "# 根据常规默认值确定α，β，K值，α=0.05， β=0.2， K=1(组间样本均值)\n",
    "alpha = 0.05\n",
    "beta = 0.2\n",
    "k = 1"
   ]
  },
  {
   "cell_type": "markdown",
   "id": "bc900192",
   "metadata": {},
   "source": [
    "求 $z_{1-α/2}$ 和 $z_{1-β}$"
   ]
  },
  {
   "cell_type": "code",
   "execution_count": 7,
   "id": "0ea2d1de",
   "metadata": {},
   "outputs": [
    {
     "data": {
      "text/plain": [
       "1.959963984540054"
      ]
     },
     "metadata": {},
     "output_type": "display_data"
    },
    {
     "data": {
      "text/plain": [
       "0.8416212335729143"
      ]
     },
     "metadata": {},
     "output_type": "display_data"
    }
   ],
   "source": [
    "z_alpha = stats.norm.ppf(1-alpha/2)\n",
    "z_beta = stats.norm.ppf(1-beta)\n",
    "display(z_alpha, z_beta)"
   ]
  },
  {
   "cell_type": "code",
   "execution_count": 8,
   "id": "430b71db",
   "metadata": {},
   "outputs": [
    {
     "data": {
      "text/plain": [
       "1.6448536269514722"
      ]
     },
     "execution_count": 8,
     "metadata": {},
     "output_type": "execute_result"
    }
   ],
   "source": [
    "from scipy import stats\n",
    "alpha = 0.05\n",
    "z = stats.norm.ppf(1-alpha)\n",
    "z"
   ]
  },
  {
   "cell_type": "markdown",
   "id": "77611a91",
   "metadata": {},
   "source": [
    "求$σ$"
   ]
  },
  {
   "cell_type": "code",
   "execution_count": 9,
   "id": "19e7e3c4",
   "metadata": {},
   "outputs": [
    {
     "data": {
      "text/plain": [
       "0.4560376923361705"
      ]
     },
     "execution_count": 9,
     "metadata": {},
     "output_type": "execute_result"
    }
   ],
   "source": [
    "df_C = data.loc[(data.组=='D') & (data.店铺类型 == 'C'), ['riqi', '下单量']]\n",
    "sigema = df_C['下单量'].std()\n",
    "sigema"
   ]
  },
  {
   "cell_type": "markdown",
   "id": "e97b6ca8",
   "metadata": {},
   "source": [
    "求二类目标提升值：$μ_A -μ_B$"
   ]
  },
  {
   "cell_type": "code",
   "execution_count": 11,
   "id": "0483cd5a",
   "metadata": {},
   "outputs": [
    {
     "data": {
      "text/plain": [
       "0.031065555555555555"
      ]
     },
     "execution_count": 11,
     "metadata": {},
     "output_type": "execute_result"
    }
   ],
   "source": [
    "mean = df_C.groupby('riqi')['下单量'].mean().mean()*0.3\n",
    "mean"
   ]
  },
  {
   "cell_type": "code",
   "execution_count": 13,
   "id": "98575c8f",
   "metadata": {},
   "outputs": [
    {
     "data": {
      "text/plain": [
       "3382.83565731299"
      ]
     },
     "execution_count": 13,
     "metadata": {},
     "output_type": "execute_result"
    }
   ],
   "source": [
    "yangbenliang = (1+1/k)*np.power(sigema*(z_alpha+z_beta)/mean, 2)\n",
    "yangbenliang"
   ]
  },
  {
   "cell_type": "markdown",
   "id": "d2463101",
   "metadata": {},
   "source": [
    "求σ"
   ]
  },
  {
   "cell_type": "code",
   "execution_count": 17,
   "id": "01b673a8",
   "metadata": {},
   "outputs": [
    {
     "data": {
      "text/plain": [
       "1.903068855290103"
      ]
     },
     "execution_count": 17,
     "metadata": {},
     "output_type": "execute_result"
    }
   ],
   "source": [
    "df_A = data.loc[(data.组=='D') & (data.店铺类型=='A'), ['riqi','下单量']]\n",
    "sigema = df_A['下单量'].std()\n",
    "sigema"
   ]
  },
  {
   "cell_type": "markdown",
   "id": "e4634b4b",
   "metadata": {},
   "source": [
    "求一类目标提升值：$μ_A -μ_B$"
   ]
  },
  {
   "cell_type": "code",
   "execution_count": 21,
   "id": "01fa0273",
   "metadata": {},
   "outputs": [
    {
     "data": {
      "text/plain": [
       "0.19578164968724276"
      ]
     },
     "execution_count": 21,
     "metadata": {},
     "output_type": "execute_result"
    }
   ],
   "source": [
    "mean = df_A.groupby('riqi')['下单量'].mean().std()*2\n",
    "mean"
   ]
  },
  {
   "cell_type": "code",
   "execution_count": 22,
   "id": "69d8ecb7",
   "metadata": {},
   "outputs": [
    {
     "data": {
      "text/plain": [
       "1483.2102112429511"
      ]
     },
     "execution_count": 22,
     "metadata": {},
     "output_type": "execute_result"
    }
   ],
   "source": [
    "yangbenliang = (1+1/k)*np.power(sigema*(z_alpha+z_beta)/mean, 2)  # 随着$μ_A-μ_B$的插值愈大，所需样本量愈小\n",
    "yangbenliang"
   ]
  },
  {
   "cell_type": "code",
   "execution_count": null,
   "id": "cbdedcd6",
   "metadata": {},
   "outputs": [],
   "source": []
  }
 ],
 "metadata": {
  "kernelspec": {
   "display_name": "Python 3",
   "language": "python",
   "name": "python3"
  },
  "language_info": {
   "codemirror_mode": {
    "name": "ipython",
    "version": 3
   },
   "file_extension": ".py",
   "mimetype": "text/x-python",
   "name": "python",
   "nbconvert_exporter": "python",
   "pygments_lexer": "ipython3",
   "version": "3.9.2"
  },
  "toc": {
   "base_numbering": 1,
   "nav_menu": {},
   "number_sections": true,
   "sideBar": true,
   "skip_h1_title": false,
   "title_cell": "Table of Contents",
   "title_sidebar": "Contents",
   "toc_cell": false,
   "toc_position": {},
   "toc_section_display": true,
   "toc_window_display": false
  }
 },
 "nbformat": 4,
 "nbformat_minor": 5
}
