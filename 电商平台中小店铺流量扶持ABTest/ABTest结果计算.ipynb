{
 "cells": [
  {
   "cell_type": "code",
   "execution_count": 2,
   "id": "882496f4",
   "metadata": {},
   "outputs": [],
   "source": [
    "import pandas as pd \n",
    "import numpy as np\n",
    "import matplotlib.pyplot as plt\n",
    "from scipy import stats\n",
    "import pymysql\n",
    "import warnings\n",
    "warnings.filterwarnings('ignore')\n",
    "plt.rcParams['font.family'] = 'SimHei'\n",
    "plt.rcParams['axes.unicode_minus'] = False"
   ]
  },
  {
   "cell_type": "code",
   "execution_count": 3,
   "id": "68b0b1e8",
   "metadata": {},
   "outputs": [
    {
     "data": {
      "text/html": [
       "<div>\n",
       "<style scoped>\n",
       "    .dataframe tbody tr th:only-of-type {\n",
       "        vertical-align: middle;\n",
       "    }\n",
       "\n",
       "    .dataframe tbody tr th {\n",
       "        vertical-align: top;\n",
       "    }\n",
       "\n",
       "    .dataframe thead th {\n",
       "        text-align: right;\n",
       "    }\n",
       "</style>\n",
       "<table border=\"1\" class=\"dataframe\">\n",
       "  <thead>\n",
       "    <tr style=\"text-align: right;\">\n",
       "      <th></th>\n",
       "      <th>id</th>\n",
       "      <th>组</th>\n",
       "      <th>曝光量</th>\n",
       "      <th>点击量</th>\n",
       "      <th>下单量</th>\n",
       "      <th>购买店铺数</th>\n",
       "      <th>店铺类型</th>\n",
       "      <th>riqi</th>\n",
       "    </tr>\n",
       "  </thead>\n",
       "  <tbody>\n",
       "    <tr>\n",
       "      <th>0</th>\n",
       "      <td>17437864</td>\n",
       "      <td>A</td>\n",
       "      <td>105</td>\n",
       "      <td>16</td>\n",
       "      <td>15</td>\n",
       "      <td>20</td>\n",
       "      <td>A</td>\n",
       "      <td>2020-05-13</td>\n",
       "    </tr>\n",
       "    <tr>\n",
       "      <th>1</th>\n",
       "      <td>17402857</td>\n",
       "      <td>A</td>\n",
       "      <td>147</td>\n",
       "      <td>21</td>\n",
       "      <td>13</td>\n",
       "      <td>7</td>\n",
       "      <td>A</td>\n",
       "      <td>2020-05-13</td>\n",
       "    </tr>\n",
       "    <tr>\n",
       "      <th>2</th>\n",
       "      <td>17017891</td>\n",
       "      <td>A</td>\n",
       "      <td>59</td>\n",
       "      <td>10</td>\n",
       "      <td>9</td>\n",
       "      <td>4</td>\n",
       "      <td>A</td>\n",
       "      <td>2020-05-13</td>\n",
       "    </tr>\n",
       "    <tr>\n",
       "      <th>3</th>\n",
       "      <td>15792190</td>\n",
       "      <td>A</td>\n",
       "      <td>216</td>\n",
       "      <td>39</td>\n",
       "      <td>6</td>\n",
       "      <td>2</td>\n",
       "      <td>C</td>\n",
       "      <td>2020-05-13</td>\n",
       "    </tr>\n",
       "    <tr>\n",
       "      <th>4</th>\n",
       "      <td>8726788</td>\n",
       "      <td>A</td>\n",
       "      <td>51</td>\n",
       "      <td>9</td>\n",
       "      <td>6</td>\n",
       "      <td>1</td>\n",
       "      <td>A</td>\n",
       "      <td>2020-05-13</td>\n",
       "    </tr>\n",
       "  </tbody>\n",
       "</table>\n",
       "</div>"
      ],
      "text/plain": [
       "         id  组  曝光量  点击量  下单量  购买店铺数 店铺类型        riqi\n",
       "0  17437864  A  105   16   15     20    A  2020-05-13\n",
       "1  17402857  A  147   21   13      7    A  2020-05-13\n",
       "2  17017891  A   59   10    9      4    A  2020-05-13\n",
       "3  15792190  A  216   39    6      2    C  2020-05-13\n",
       "4   8726788  A   51    9    6      1    A  2020-05-13"
      ]
     },
     "execution_count": 3,
     "metadata": {},
     "output_type": "execute_result"
    }
   ],
   "source": [
    "con = pymysql.connect(host='127.0.0.1', port=3306, user='root', passwd='lxy021527', db='ABTest', use_unicode=True, charset='utf8')\n",
    "data = pd.read_sql('select * from abtest', con=con)\n",
    "data.head()"
   ]
  },
  {
   "cell_type": "markdown",
   "id": "5db997e0",
   "metadata": {},
   "source": [
    "# 一类指标假设检验"
   ]
  },
  {
   "cell_type": "code",
   "execution_count": 4,
   "id": "2d979714",
   "metadata": {},
   "outputs": [
    {
     "data": {
      "text/html": [
       "<div>\n",
       "<style scoped>\n",
       "    .dataframe tbody tr th:only-of-type {\n",
       "        vertical-align: middle;\n",
       "    }\n",
       "\n",
       "    .dataframe tbody tr th {\n",
       "        vertical-align: top;\n",
       "    }\n",
       "\n",
       "    .dataframe thead th {\n",
       "        text-align: right;\n",
       "    }\n",
       "</style>\n",
       "<table border=\"1\" class=\"dataframe\">\n",
       "  <thead>\n",
       "    <tr style=\"text-align: right;\">\n",
       "      <th></th>\n",
       "      <th>组</th>\n",
       "      <th>下单量</th>\n",
       "    </tr>\n",
       "  </thead>\n",
       "  <tbody>\n",
       "    <tr>\n",
       "      <th>62219</th>\n",
       "      <td>A</td>\n",
       "      <td>18</td>\n",
       "    </tr>\n",
       "    <tr>\n",
       "      <th>62220</th>\n",
       "      <td>A</td>\n",
       "      <td>15</td>\n",
       "    </tr>\n",
       "    <tr>\n",
       "      <th>62221</th>\n",
       "      <td>A</td>\n",
       "      <td>11</td>\n",
       "    </tr>\n",
       "    <tr>\n",
       "      <th>62222</th>\n",
       "      <td>A</td>\n",
       "      <td>10</td>\n",
       "    </tr>\n",
       "    <tr>\n",
       "      <th>62223</th>\n",
       "      <td>A</td>\n",
       "      <td>7</td>\n",
       "    </tr>\n",
       "  </tbody>\n",
       "</table>\n",
       "</div>"
      ],
      "text/plain": [
       "       组  下单量\n",
       "62219  A   18\n",
       "62220  A   15\n",
       "62221  A   11\n",
       "62222  A   10\n",
       "62223  A    7"
      ]
     },
     "execution_count": 4,
     "metadata": {},
     "output_type": "execute_result"
    }
   ],
   "source": [
    "# 抽取A类店铺一天数据\n",
    "df = data.loc[(data.riqi=='2020-05-14') & (data.店铺类型 == 'A'),['组','下单量']]\n",
    "df.head()"
   ]
  },
  {
   "cell_type": "code",
   "execution_count": 5,
   "id": "dc05df7b",
   "metadata": {},
   "outputs": [
    {
     "data": {
      "text/plain": [
       "组\n",
       "A    10000\n",
       "B     9468\n",
       "C     1038\n",
       "D    10532\n",
       "Name: 下单量, dtype: int64"
      ]
     },
     "execution_count": 5,
     "metadata": {},
     "output_type": "execute_result"
    }
   ],
   "source": [
    "# 查看每组样本量\n",
    "df.groupby('组')['下单量'].count()"
   ]
  },
  {
   "cell_type": "code",
   "execution_count": 6,
   "id": "90c31f9b",
   "metadata": {},
   "outputs": [
    {
     "data": {
      "text/plain": [
       "array(['A', 'D', 'B'], dtype=object)"
      ]
     },
     "execution_count": 6,
     "metadata": {},
     "output_type": "execute_result"
    }
   ],
   "source": [
    "# C组样本悬殊，故C组不参与检验\n",
    "df = df[df.组 != 'C']\n",
    "df.组.unique()"
   ]
  },
  {
   "cell_type": "code",
   "execution_count": 7,
   "id": "5fee1206",
   "metadata": {},
   "outputs": [
    {
     "data": {
      "text/plain": [
       "组\n",
       "A    0.119500\n",
       "B    0.705957\n",
       "D    0.805640\n",
       "Name: 下单量, dtype: float64"
      ]
     },
     "execution_count": 7,
     "metadata": {},
     "output_type": "execute_result"
    }
   ],
   "source": [
    "df.groupby('组')['下单量'].mean()"
   ]
  },
  {
   "cell_type": "code",
   "execution_count": 11,
   "id": "7fa62d1e",
   "metadata": {},
   "outputs": [
    {
     "data": {
      "text/plain": [
       "0.09789082484362138"
      ]
     },
     "execution_count": 11,
     "metadata": {},
     "output_type": "execute_result"
    }
   ],
   "source": [
    "# 统计对照组（D组）的标准差\n",
    "df_std = data.loc[data.店铺类型=='A', ['组','riqi','下单量']]\n",
    "std = df_std[df_std.组=='D'].groupby('riqi')['下单量'].mean().std()\n",
    "std\n",
    "# 正态分布的经验解释是一个标准差内包含68.2%的数据，2个标准差内是95.5%的数据，3个标准差内是99.7%的数据\n",
    "# 数据在3个标准差内波动为正常现象"
   ]
  },
  {
   "cell_type": "code",
   "execution_count": 12,
   "id": "7581ff62",
   "metadata": {},
   "outputs": [
    {
     "data": {
      "text/plain": [
       "0.19578164968724276"
      ]
     },
     "execution_count": 12,
     "metadata": {},
     "output_type": "execute_result"
    }
   ],
   "source": [
    "# 为让A类店铺无明显感知利润下降，我们设置A类店铺下降阈值为2个标准差\n",
    "muzhicha = std*2\n",
    "muzhicha"
   ]
  },
  {
   "cell_type": "markdown",
   "id": "561bb7b8",
   "metadata": {},
   "source": [
    "## 求AD组"
   ]
  },
  {
   "cell_type": "code",
   "execution_count": 13,
   "id": "fa7b0e84",
   "metadata": {},
   "outputs": [],
   "source": [
    "alpha = 0.05\n",
    "# H0: μD - μA >= 0.195, H1: μD - μA < 0.195"
   ]
  },
  {
   "cell_type": "markdown",
   "id": "069c3a38",
   "metadata": {},
   "source": [
    "计算统计量 $xbar_D - xbar_A$"
   ]
  },
  {
   "cell_type": "code",
   "execution_count": 14,
   "id": "c656532c",
   "metadata": {},
   "outputs": [
    {
     "data": {
      "text/plain": [
       "0.6861399544246107"
      ]
     },
     "execution_count": 14,
     "metadata": {},
     "output_type": "execute_result"
    }
   ],
   "source": [
    "dif_AD = df.下单量[df.组=='D'].mean() - df.下单量[df.组=='A'].mean()\n",
    "dif_AD"
   ]
  },
  {
   "cell_type": "markdown",
   "id": "635ea84b",
   "metadata": {},
   "source": [
    "求$s^2_A/n_A + s^2_D/n_D$"
   ]
  },
  {
   "cell_type": "code",
   "execution_count": 15,
   "id": "7020da90",
   "metadata": {},
   "outputs": [
    {
     "data": {
      "text/plain": [
       "0.0004805813046421241"
      ]
     },
     "execution_count": 15,
     "metadata": {},
     "output_type": "execute_result"
    }
   ],
   "source": [
    "varsum_AD = df.下单量[df.组=='A'].var()/df.下单量[df.组=='D'].count() + df.下单量[df.组=='D'].var()/df.下单量[df.组=='D'].count()\n",
    "varsum_AD"
   ]
  },
  {
   "cell_type": "markdown",
   "id": "53cb8079",
   "metadata": {},
   "source": [
    "$xbar_D - xbar_A$ ~ N(0.195, varsum_AD)"
   ]
  },
  {
   "cell_type": "markdown",
   "id": "b5da3947",
   "metadata": {},
   "source": [
    "计算dif_AD在相应的分布的概率p"
   ]
  },
  {
   "cell_type": "code",
   "execution_count": 16,
   "id": "86064490",
   "metadata": {},
   "outputs": [
    {
     "data": {
      "text/plain": [
       "1.0"
      ]
     },
     "execution_count": 16,
     "metadata": {},
     "output_type": "execute_result"
    }
   ],
   "source": [
    "p_A = stats.norm.cdf(dif_AD, loc=muzhicha, scale=np.sqrt(varsum_AD))\n",
    "p_A"
   ]
  },
  {
   "cell_type": "markdown",
   "id": "5de39aa5",
   "metadata": {},
   "source": [
    "## 求BD组"
   ]
  },
  {
   "cell_type": "code",
   "execution_count": 18,
   "id": "95f10e75",
   "metadata": {},
   "outputs": [
    {
     "data": {
      "text/plain": [
       "0.00014563245658988502"
      ]
     },
     "execution_count": 18,
     "metadata": {},
     "output_type": "execute_result"
    }
   ],
   "source": [
    "dif_BD = df.下单量[df.组=='D'].mean() - df.下单量[df.组=='B'].mean()\n",
    "varsum_BD = df.下单量[df.组=='B'].var()/df.下单量[df.组=='B'].count() + df.下单量[df.组=='D'].var()/df.下单量[df.组=='D'].count()\n",
    "p_B = stats.norm.cdf(dif_BD, loc=muzhicha, scale=np.sqrt(varsum_BD))\n",
    "p_B"
   ]
  },
  {
   "cell_type": "markdown",
   "id": "cd8e7b66",
   "metadata": {},
   "source": [
    "判断结果"
   ]
  },
  {
   "cell_type": "code",
   "execution_count": 19,
   "id": "dfa5d433",
   "metadata": {},
   "outputs": [
    {
     "name": "stdout",
     "output_type": "stream",
     "text": [
      "B策略对A类店铺影响小于阈值0.19578164968724276\n"
     ]
    }
   ],
   "source": [
    "if (p_A < alpha) & (p_B < alpha):\n",
    "    if dif_A < dif_B:\n",
    "        print('A策略对A类店铺影响小')\n",
    "    else:\n",
    "        print('B策略对A类店铺影响小')\n",
    "elif p_A < alpha:\n",
    "    print('A策略对A类店铺影响小于阈值' + str(muzhicha))\n",
    "elif p_B < alpha:\n",
    "    print('B策略对A类店铺影响小于阈值' + str(muzhicha))\n",
    "else:\n",
    "    print('A,B策略对A类店铺影响超过阈值' + str(muzhicha))"
   ]
  },
  {
   "cell_type": "markdown",
   "id": "6d07ae92",
   "metadata": {},
   "source": [
    "# 二类指标假设检验"
   ]
  },
  {
   "cell_type": "code",
   "execution_count": 20,
   "id": "a20b1ab3",
   "metadata": {
    "scrolled": true
   },
   "outputs": [
    {
     "data": {
      "text/html": [
       "<div>\n",
       "<style scoped>\n",
       "    .dataframe tbody tr th:only-of-type {\n",
       "        vertical-align: middle;\n",
       "    }\n",
       "\n",
       "    .dataframe tbody tr th {\n",
       "        vertical-align: top;\n",
       "    }\n",
       "\n",
       "    .dataframe thead th {\n",
       "        text-align: right;\n",
       "    }\n",
       "</style>\n",
       "<table border=\"1\" class=\"dataframe\">\n",
       "  <thead>\n",
       "    <tr style=\"text-align: right;\">\n",
       "      <th></th>\n",
       "      <th>组</th>\n",
       "      <th>下单量</th>\n",
       "    </tr>\n",
       "  </thead>\n",
       "  <tbody>\n",
       "    <tr>\n",
       "      <th>62229</th>\n",
       "      <td>A</td>\n",
       "      <td>4</td>\n",
       "    </tr>\n",
       "    <tr>\n",
       "      <th>62258</th>\n",
       "      <td>A</td>\n",
       "      <td>2</td>\n",
       "    </tr>\n",
       "    <tr>\n",
       "      <th>62260</th>\n",
       "      <td>A</td>\n",
       "      <td>2</td>\n",
       "    </tr>\n",
       "    <tr>\n",
       "      <th>62352</th>\n",
       "      <td>A</td>\n",
       "      <td>1</td>\n",
       "    </tr>\n",
       "    <tr>\n",
       "      <th>62354</th>\n",
       "      <td>A</td>\n",
       "      <td>1</td>\n",
       "    </tr>\n",
       "  </tbody>\n",
       "</table>\n",
       "</div>"
      ],
      "text/plain": [
       "       组  下单量\n",
       "62229  A    4\n",
       "62258  A    2\n",
       "62260  A    2\n",
       "62352  A    1\n",
       "62354  A    1"
      ]
     },
     "execution_count": 20,
     "metadata": {},
     "output_type": "execute_result"
    }
   ],
   "source": [
    "df_C = data.loc[(data.riqi=='2020-05-14') & (data.店铺类型=='C'), ['组', '下单量']]\n",
    "df_C.head()"
   ]
  },
  {
   "cell_type": "code",
   "execution_count": 22,
   "id": "1b3c8dd5",
   "metadata": {},
   "outputs": [
    {
     "data": {
      "text/plain": [
       "组\n",
       "A    10000\n",
       "B    10000\n",
       "C     1183\n",
       "D    10000\n",
       "Name: 下单量, dtype: int64"
      ]
     },
     "execution_count": 22,
     "metadata": {},
     "output_type": "execute_result"
    }
   ],
   "source": [
    "df_C.groupby('组')['下单量'].count()"
   ]
  },
  {
   "cell_type": "code",
   "execution_count": 24,
   "id": "9cd6166b",
   "metadata": {},
   "outputs": [],
   "source": [
    "# 去除C组，未达到样本量\n",
    "df_C = df_C[df_C['组'] != 'C']"
   ]
  },
  {
   "cell_type": "code",
   "execution_count": 25,
   "id": "656fd076",
   "metadata": {},
   "outputs": [
    {
     "data": {
      "text/plain": [
       "组\n",
       "A    0.0064\n",
       "B    0.4697\n",
       "D    0.1318\n",
       "Name: 下单量, dtype: float64"
      ]
     },
     "execution_count": 25,
     "metadata": {},
     "output_type": "execute_result"
    }
   ],
   "source": [
    "df_C.groupby('组')['下单量'].mean()"
   ]
  },
  {
   "cell_type": "markdown",
   "id": "a7e53e2c",
   "metadata": {},
   "source": [
    "计算提升值 $μ_A -μ_B$"
   ]
  },
  {
   "cell_type": "code",
   "execution_count": 26,
   "id": "938f2e90",
   "metadata": {},
   "outputs": [
    {
     "data": {
      "text/plain": [
       "0.031065555555555555"
      ]
     },
     "execution_count": 26,
     "metadata": {},
     "output_type": "execute_result"
    }
   ],
   "source": [
    "tisheng = data[(data.组=='D') & (data.店铺类型=='C')].groupby('riqi')['下单量'].mean().mean()*0.3\n",
    "tisheng"
   ]
  },
  {
   "cell_type": "markdown",
   "id": "71f5cb3b",
   "metadata": {},
   "source": [
    "ABTest封装函数"
   ]
  },
  {
   "cell_type": "code",
   "execution_count": 37,
   "id": "a27f3cf4",
   "metadata": {},
   "outputs": [],
   "source": [
    "def abtest(df: pd.DataFrame, alpha=0.05, group_col: str=None, value_col: str=None):\n",
    "    '''\n",
    "    :param df: 被分析DataFrame对象\n",
    "    :param alpha: 临界值\n",
    "    :param group_col: 组列的%%latex字，默认为df的第一列\n",
    "    :param value_col: 值列的名字，默认为df的第2列\n",
    "    :return:best_group_name,pdf\n",
    "        best_group_name: 最优解\n",
    "        pdf: 最优组与其他组的差异性\n",
    "    '''\n",
    "    # 列名\n",
    "    if not group_col:\n",
    "        group_col = df.columns[0]\n",
    "    if not value_col:\n",
    "        value_col = df.columns[1]\n",
    "        \n",
    "    # 寻找最优组与最优质值\n",
    "    best_group_name = df.groupby(group_col)[value_col].mean().sort_values(ascending=False).index.tolist()[0]\n",
    "    best_group_values = df[df[group_col] == best_group_name][value_col]  # 最优组的values\n",
    "    # 去除最优组的组名\n",
    "    group_names = list(set(df[group_col].unique().tolist()) - set(best_group_name))\n",
    "    # 初始化返回数据\n",
    "    pdf = pd.DataFrame(columns=[group_col, 'mean', 'pvalue', 'ptype'])\n",
    "    # 计算差异性\n",
    "    for group_name in group_names:\n",
    "        group_values = df[df[group_col] == group_name][value_col]\n",
    "        \n",
    "        dif = best_group_values.mean() - group_values.mean()\n",
    "        var = best_group_values.var()/best_group_values.count() + group_values.var()/group_values.count()\n",
    "        \n",
    "        # Z检验\n",
    "        pvalue = 1 - stats.norm.cdf(dif, loc=tisheng, scale=np.sqrt(var))\n",
    "        \n",
    "        if pvalue >= alpha:\n",
    "            ptype = '无显著差异'\n",
    "        else:\n",
    "            ptype = '有显著差异'\n",
    "        # 添加数据\n",
    "        pdf.loc[pdf.shape[0]] = {group_col:group_name, 'mean':group_values.mean(), 'pvalue':pvalue, 'ptype':ptype}\n",
    "        \n",
    "    return best_group_name, best_group_values.mean(), pdf"
   ]
  },
  {
   "cell_type": "code",
   "execution_count": 38,
   "id": "21818585",
   "metadata": {},
   "outputs": [
    {
     "data": {
      "text/plain": [
       "('B',\n",
       " 0.4697,\n",
       "    组    mean  pvalue  ptype\n",
       " 0  D  0.1318     0.0  有显著差异\n",
       " 1  A  0.0064     0.0  有显著差异)"
      ]
     },
     "execution_count": 38,
     "metadata": {},
     "output_type": "execute_result"
    }
   ],
   "source": [
    "abtest(df_C)"
   ]
  },
  {
   "cell_type": "code",
   "execution_count": null,
   "id": "d219b89a",
   "metadata": {},
   "outputs": [],
   "source": []
  }
 ],
 "metadata": {
  "kernelspec": {
   "display_name": "Python 3",
   "language": "python",
   "name": "python3"
  },
  "language_info": {
   "codemirror_mode": {
    "name": "ipython",
    "version": 3
   },
   "file_extension": ".py",
   "mimetype": "text/x-python",
   "name": "python",
   "nbconvert_exporter": "python",
   "pygments_lexer": "ipython3",
   "version": "3.9.2"
  },
  "toc": {
   "base_numbering": 1,
   "nav_menu": {},
   "number_sections": true,
   "sideBar": true,
   "skip_h1_title": false,
   "title_cell": "Table of Contents",
   "title_sidebar": "Contents",
   "toc_cell": false,
   "toc_position": {},
   "toc_section_display": true,
   "toc_window_display": false
  }
 },
 "nbformat": 4,
 "nbformat_minor": 5
}
